{
  "nbformat": 4,
  "nbformat_minor": 0,
  "metadata": {
    "colab": {
      "provenance": [],
      "toc_visible": true,
      "authorship_tag": "ABX9TyPe2+OwrOZMQTrcm6UU4igx",
      "include_colab_link": true
    },
    "kernelspec": {
      "name": "python3",
      "display_name": "Python 3"
    },
    "language_info": {
      "name": "python"
    }
  },
  "cells": [
    {
      "cell_type": "markdown",
      "metadata": {
        "id": "view-in-github",
        "colab_type": "text"
      },
      "source": [
        "<a href=\"https://colab.research.google.com/github/k-kirishiki/-JupyterNotebook.ipynb/blob/main/%E3%81%AF%E3%81%98%E3%82%81%E3%81%A6%E3%81%AEJupyterNotebook.ipynb\" target=\"_parent\"><img src=\"https://colab.research.google.com/assets/colab-badge.svg\" alt=\"Open In Colab\"/></a>"
      ]
    },
    {
      "cell_type": "markdown",
      "source": [
        "# はじめてのJuputer Notebook\n",
        "テキストセルではマークダウン記法を使用できる\n",
        "\n",
        "ここにはTipsよりもまずは遊び倒して使いまくることを目的として情報をざっくばらんに記載します来ることを目的とする。\n",
        "気づきがあれば、メモに残していく\n",
        "がんばるぞい 💪"
      ],
      "metadata": {
        "id": "OjI_TeA9sCQF"
      }
    },
    {
      "cell_type": "markdown",
      "source": [
        "# 新しいセクション"
      ],
      "metadata": {
        "id": "6q3lpACvxN-4"
      }
    },
    {
      "cell_type": "markdown",
      "source": [
        "print(\"こんにちは、世界！\")\n",
        "print(\"hogehoge\")"
      ],
      "metadata": {
        "id": "GdAwotYass5O"
      }
    },
    {
      "cell_type": "code",
      "source": [
        "# prompt: 2つの整数型の変数を引数として入力し、2つの変数の中身を入れ替える関数を書いてください。\n",
        "\n",
        "def swap_variables(a, b):\n",
        "  \"\"\"\n",
        "  2つの整数型の変数の中身を入れ替える関数\n",
        "\n",
        "  Args:\n",
        "    a: 整数型の変数\n",
        "    b: 整数型の変数\n",
        "\n",
        "  Returns:\n",
        "    aとbの値を入れ替えた後のタプル(a, b)\n",
        "  \"\"\"\n",
        "  return b, a\n",
        "\n",
        "# 例\n",
        "x = 10\n",
        "y = 20\n",
        "x, y = swap_variables(x, y)\n",
        "print(f\"x: {x}, y: {y}\")\n"
      ],
      "metadata": {
        "colab": {
          "base_uri": "https://localhost:8080/"
        },
        "id": "7C3M5ZQnu2TW",
        "outputId": "d7f82c84-3bb6-407c-abdb-200be389db62"
      },
      "execution_count": null,
      "outputs": [
        {
          "output_type": "stream",
          "name": "stdout",
          "text": [
            "x: 20, y: 10\n"
          ]
        }
      ]
    },
    {
      "cell_type": "code",
      "source": [
        "# prompt: 文字列型の引数を2つ入力すると、引数の文字列が一致している場合はTrue,それ以外の場合はFalseを応答する関数を記述してください。アルファベットの文字数が2文字以上の場合はエラー原因を出力のうえで、停止するようにしてください。\n",
        "\n",
        "def compare_strings(str1, str2):\n",
        "  \"\"\"\n",
        "  2つの文字列を比較し、一致する場合はTrue、一致しない場合はFalseを返す関数。\n",
        "\n",
        "  Args:\n",
        "      str1: 比較対象の文字列1。\n",
        "      str2: 比較対象の文字列2。\n",
        "\n",
        "  Returns:\n",
        "      文字列が一致する場合はTrue、一致しない場合はFalse。\n",
        "\n",
        "  Raises:\n",
        "      ValueError: 文字列の長さが2文字以上の場合。\n",
        "  \"\"\"\n",
        "  if len(str1) > 1 or len(str2) > 1:\n",
        "    raise ValueError(\"文字列の長さは1文字以下である必要があります。\")\n",
        "  return str1 == str2\n",
        "\n",
        "\n",
        "# 例\n",
        "try:\n",
        "  result = compare_strings('a', 'a')\n",
        "  print(result)  # True\n",
        "\n",
        "  result = compare_strings('a', 'b')\n",
        "  print(result)  # False\n",
        "\n",
        "  result = compare_strings('ab', 'ab')\n",
        "  print(result)  # ValueError: 文字列の長さは1文字以下である必要があります。\n",
        "\n",
        "except ValueError as e:\n",
        "  print(\"エラー:\", e)\n",
        "\n"
      ],
      "metadata": {
        "colab": {
          "base_uri": "https://localhost:8080/"
        },
        "id": "1aURJJsasdbY",
        "outputId": "98213f0b-49ab-4e49-cbb0-e09132ddaff3"
      },
      "execution_count": null,
      "outputs": [
        {
          "output_type": "stream",
          "name": "stdout",
          "text": [
            "True\n",
            "False\n",
            "エラー: 文字列の長さは1文字以下である必要があります。\n"
          ]
        }
      ]
    },
    {
      "cell_type": "markdown",
      "source": [
        "# **基礎**"
      ],
      "metadata": {
        "id": "kU-5mwX5xX5P"
      }
    },
    {
      "cell_type": "markdown",
      "source": [
        "## 基本的な計算"
      ],
      "metadata": {
        "id": "OttvZukJxfWx"
      }
    },
    {
      "cell_type": "markdown",
      "source": [
        "## 変数"
      ],
      "metadata": {
        "id": "PqkKfxbpxgvx"
      }
    },
    {
      "cell_type": "markdown",
      "source": [
        "## 実行制御"
      ],
      "metadata": {
        "id": "36Bq94P4xpTs"
      }
    },
    {
      "cell_type": "markdown",
      "source": [
        "## 関数"
      ],
      "metadata": {
        "id": "Kq2zNH2Ex3KN"
      }
    },
    {
      "cell_type": "markdown",
      "source": [
        "## モジュール"
      ],
      "metadata": {
        "id": "1Ps6AmdEx9TA"
      }
    },
    {
      "cell_type": "markdown",
      "source": [
        "# **データ構造**"
      ],
      "metadata": {
        "id": "EU5fDjMqyIK8"
      }
    },
    {
      "cell_type": "markdown",
      "source": [
        "## リスト"
      ],
      "metadata": {
        "id": "aTVspUhayVM-"
      }
    },
    {
      "cell_type": "code",
      "source": [],
      "metadata": {
        "id": "zcPn-k8LyZ-e"
      },
      "execution_count": null,
      "outputs": []
    },
    {
      "cell_type": "markdown",
      "source": [
        "## タプル"
      ],
      "metadata": {
        "id": "Y1YuCZMXybo_"
      }
    },
    {
      "cell_type": "code",
      "source": [],
      "metadata": {
        "id": "wmTTCGCmydt2"
      },
      "execution_count": null,
      "outputs": []
    },
    {
      "cell_type": "markdown",
      "source": [
        "## 文字列"
      ],
      "metadata": {
        "id": "ApYD4w1fyezh"
      }
    },
    {
      "cell_type": "code",
      "source": [],
      "metadata": {
        "id": "OoCgik8hyiZv"
      },
      "execution_count": null,
      "outputs": []
    },
    {
      "cell_type": "markdown",
      "source": [
        "## 辞書"
      ],
      "metadata": {
        "id": "-d7ONHG9yl10"
      }
    },
    {
      "cell_type": "markdown",
      "source": [
        "## 集合"
      ],
      "metadata": {
        "id": "Awwm6Cbzyn7v"
      }
    },
    {
      "cell_type": "code",
      "source": [],
      "metadata": {
        "id": "jbjJJZ8qyqcv"
      },
      "execution_count": null,
      "outputs": []
    },
    {
      "cell_type": "markdown",
      "source": [
        "# **発展**"
      ],
      "metadata": {
        "id": "22DwYCFWyrLl"
      }
    },
    {
      "cell_type": "code",
      "source": [],
      "metadata": {
        "id": "Jq9Rg7kKyszL"
      },
      "execution_count": null,
      "outputs": []
    },
    {
      "cell_type": "markdown",
      "source": [
        "## ファイルの入出力"
      ],
      "metadata": {
        "id": "9SeBtN3wytm8"
      }
    },
    {
      "cell_type": "code",
      "source": [],
      "metadata": {
        "id": "zFoJWumtyvaL"
      },
      "execution_count": null,
      "outputs": []
    },
    {
      "cell_type": "markdown",
      "source": [
        "## 可変と不変"
      ],
      "metadata": {
        "id": "knjoHUX6ywz8"
      }
    },
    {
      "cell_type": "code",
      "source": [],
      "metadata": {
        "id": "OrqZrXlvy0vh"
      },
      "execution_count": null,
      "outputs": []
    },
    {
      "cell_type": "markdown",
      "source": [
        "## クラス"
      ],
      "metadata": {
        "id": "xPxMb8jNy1OE"
      }
    },
    {
      "cell_type": "code",
      "source": [],
      "metadata": {
        "id": "Iwbx1PXmy2ZU"
      },
      "execution_count": null,
      "outputs": []
    },
    {
      "cell_type": "markdown",
      "source": [
        "## 例外"
      ],
      "metadata": {
        "id": "uPH_0tLHy2t-"
      }
    },
    {
      "cell_type": "code",
      "source": [],
      "metadata": {
        "id": "rTjJ1ZnJy4BB"
      },
      "execution_count": null,
      "outputs": []
    },
    {
      "cell_type": "markdown",
      "source": [
        "## イテレータとジェネレータ"
      ],
      "metadata": {
        "id": "bQVQxavty4ma"
      }
    },
    {
      "cell_type": "code",
      "source": [],
      "metadata": {
        "id": "7lx8wRVhy8WC"
      },
      "execution_count": null,
      "outputs": []
    },
    {
      "cell_type": "markdown",
      "source": [
        "# **科学技術計算とデータ分析**"
      ],
      "metadata": {
        "id": "QSerYUc3y8zy"
      }
    },
    {
      "cell_type": "code",
      "source": [],
      "metadata": {
        "id": "szuxPPalzACP"
      },
      "execution_count": null,
      "outputs": []
    },
    {
      "cell_type": "markdown",
      "source": [
        "## NumPy(1): ベクトル"
      ],
      "metadata": {
        "id": "Gi74_z1_zB-j"
      }
    },
    {
      "cell_type": "code",
      "source": [],
      "metadata": {
        "id": "2yJicY_izJTU"
      },
      "execution_count": null,
      "outputs": []
    },
    {
      "cell_type": "markdown",
      "source": [
        "## Numpy(2): 行列・テンソル"
      ],
      "metadata": {
        "id": "q1X_nqvxzKI8"
      }
    },
    {
      "cell_type": "code",
      "source": [],
      "metadata": {
        "id": "ua_Zh_NgzOwF"
      },
      "execution_count": null,
      "outputs": []
    },
    {
      "cell_type": "markdown",
      "source": [
        "## Matplotlib: グラフの描画"
      ],
      "metadata": {
        "id": "sHNvmxC4zPJ9"
      }
    },
    {
      "cell_type": "code",
      "source": [],
      "metadata": {
        "id": "4ys2hruSzVyA"
      },
      "execution_count": null,
      "outputs": []
    }
  ]
}